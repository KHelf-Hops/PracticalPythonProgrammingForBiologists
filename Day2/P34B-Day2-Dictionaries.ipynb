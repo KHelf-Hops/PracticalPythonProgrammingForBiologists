{
  "cells": [
    {
      "cell_type": "markdown",
      "metadata": {
        "id": "QfYvI-_yE10I"
      },
      "source": [
        "# Practical Python Programming for Biologists\n",
        "Author: Dr. Daniel Pass | www.CompassBioinformatics.com\n",
        "\n",
        "---"
      ]
    },
    {
      "cell_type": "markdown",
      "metadata": {
        "id": "rQ5nBszYVmZT"
      },
      "source": [
        "# Dictionaries\n",
        "\n",
        "A dictionary at first looks like a 2D list but is actually unique because all data is in unordered key-value pairs. They are particularly useful for finding the corresponding pair (like a real dictionary!) when you have one value for example:\n",
        "\n",
        "- ```geneID => sequence```\n",
        "- ```aminoAcid => frequency```\n",
        "- ```site => longitude/lattitude```\n",
        "\n",
        "This example dictionary has a frequency count of each base, where the first element in each pair is the \"key\" reference, and the second element is the \"value\".\n",
        "\n",
        "It's defined in the format of ```'key' : 'value'```, between braces ```{ }``` (curly brackets)"
      ]
    },
    {
      "cell_type": "code",
      "execution_count": 1,
      "metadata": {
        "colab": {
          "base_uri": "https://localhost:8080/"
        },
        "id": "rTmf-Cp8WHSi",
        "outputId": "7376ff10-5251-48e4-d5a9-bbe6c7fdbdee"
      },
      "outputs": [
        {
          "output_type": "stream",
          "name": "stdout",
          "text": [
            "{'A': 101, 'T': 250, 'G': 125, 'C': 92}\n"
          ]
        }
      ],
      "source": [
        "# Create a dictionary of DNA base counts\n",
        "base_counts = {'A': 101, 'T': 250, 'G': 125, 'C': 92}\n",
        "print(base_counts)"
      ]
    },
    {
      "cell_type": "markdown",
      "metadata": {
        "id": "afokzMbl97rW"
      },
      "source": [
        "We can use the square bracket method ```dictionary['key']``` to return the value of a dictionary key similar to using the index number for a list, however the .get() method is usually better because it handles missing data better. Note the difference:"
      ]
    },
    {
      "cell_type": "code",
      "execution_count": 2,
      "metadata": {
        "colab": {
          "base_uri": "https://localhost:8080/"
        },
        "id": "uXeCP82Z97rW",
        "outputId": "4aacb0b3-54fa-43d3-ea02-b8eeb6f84295"
      },
      "outputs": [
        {
          "output_type": "stream",
          "name": "stdout",
          "text": [
            "Number of Thymine: 250\n"
          ]
        }
      ],
      "source": [
        "print(\"Number of Thymine:\",  base_counts['T'])"
      ]
    },
    {
      "cell_type": "code",
      "execution_count": 3,
      "metadata": {
        "colab": {
          "base_uri": "https://localhost:8080/",
          "height": 141
        },
        "id": "p_UzVKOV97rW",
        "outputId": "4ff08623-1626-48ba-90b6-208b4d1e3d60"
      },
      "outputs": [
        {
          "output_type": "error",
          "ename": "KeyError",
          "evalue": "'N'",
          "traceback": [
            "\u001b[0;31m---------------------------------------------------------------------------\u001b[0m",
            "\u001b[0;31mKeyError\u001b[0m                                  Traceback (most recent call last)",
            "\u001b[0;32m/tmp/ipython-input-1746410899.py\u001b[0m in \u001b[0;36m<cell line: 0>\u001b[0;34m()\u001b[0m\n\u001b[0;32m----> 1\u001b[0;31m \u001b[0mprint\u001b[0m\u001b[0;34m(\u001b[0m\u001b[0;34m\"Number of Unknowns:\"\u001b[0m\u001b[0;34m,\u001b[0m \u001b[0mbase_counts\u001b[0m\u001b[0;34m[\u001b[0m\u001b[0;34m'N'\u001b[0m\u001b[0;34m]\u001b[0m\u001b[0;34m)\u001b[0m\u001b[0;34m\u001b[0m\u001b[0;34m\u001b[0m\u001b[0m\n\u001b[0m",
            "\u001b[0;31mKeyError\u001b[0m: 'N'"
          ]
        }
      ],
      "source": [
        "print(\"Number of Unknowns:\", base_counts['N'])"
      ]
    },
    {
      "cell_type": "code",
      "execution_count": 4,
      "metadata": {
        "colab": {
          "base_uri": "https://localhost:8080/"
        },
        "id": "0F1g_rmC97rW",
        "outputId": "6331a095-cd93-4f45-9dca-47c66dbdb212"
      },
      "outputs": [
        {
          "output_type": "stream",
          "name": "stdout",
          "text": [
            "Number of Unknowns: None\n"
          ]
        }
      ],
      "source": [
        "print(\"Number of Unknowns:\", base_counts.get('N'))"
      ]
    },
    {
      "cell_type": "markdown",
      "metadata": {
        "id": "HZ-N4nj797rW"
      },
      "source": [
        "First lets add some new pairs to the dictionary. This can be done two ways:"
      ]
    },
    {
      "cell_type": "code",
      "execution_count": 5,
      "metadata": {
        "colab": {
          "base_uri": "https://localhost:8080/"
        },
        "id": "JnQcZXjf97rW",
        "outputId": "7ddf86c5-6512-41d7-d8bf-fb7adb6ec543"
      },
      "outputs": [
        {
          "output_type": "stream",
          "name": "stdout",
          "text": [
            "{'A': 101, 'T': 250, 'G': 125, 'C': 92, 'N': 5, 'MISSING': 0}\n"
          ]
        }
      ],
      "source": [
        "# Add a two new key-value pairs to the dictionary\n",
        "base_counts['N'] = 5\n",
        "base_counts.update({ 'MISSING' : 0 })\n",
        "\n",
        "print(base_counts)"
      ]
    },
    {
      "cell_type": "markdown",
      "metadata": {
        "id": "cw8OZ_CwWvxT"
      },
      "source": [
        "We can then access individual values based on their key just like looking them up in a dictionary, or modify/delete them:"
      ]
    },
    {
      "cell_type": "code",
      "execution_count": 9,
      "metadata": {
        "colab": {
          "base_uri": "https://localhost:8080/"
        },
        "id": "JMKJ30HtW07q",
        "outputId": "ae348774-79f6-49c8-a60b-70a3cacc490d"
      },
      "outputs": [
        {
          "output_type": "stream",
          "name": "stdout",
          "text": [
            "Number of Adenine: 101\n",
            "Number of Thymine: 250\n",
            "Number of Unknowns: 5\n",
            "{'A': 101, 'T': 250, 'G': 125, 'C': 92, 'N': 5, 'MISSING': 0}\n",
            "{'A': 65, 'T': 250, 'G': 125, 'C': 92, 'N': 5}\n"
          ]
        }
      ],
      "source": [
        "base_counts = {'A': 101, 'T': 250, 'G': 125, 'C': 92, 'N': 5, 'MISSING': 0}\n",
        "\n",
        "# Print corresponding value (two methods)\n",
        "print(\"Number of Adenine:\", base_counts.get('A'))\n",
        "print(\"Number of Thymine:\", base_counts.get('T'))\n",
        "print(\"Number of Unknowns:\", base_counts.get('N'))\n",
        "print(base_counts)\n",
        "\n",
        "# Modify the value for a key\n",
        "base_counts['A'] = 65\n",
        "\n",
        "# Remove the 'MISSING' key-value pair from the dictionary\n",
        "base_counts.pop('MISSING')\n",
        "print(base_counts)"
      ]
    },
    {
      "cell_type": "code",
      "execution_count": 10,
      "metadata": {
        "colab": {
          "base_uri": "https://localhost:8080/"
        },
        "id": "wAPek-3k97rX",
        "outputId": "1932c162-ed25-4396-c074-d2414a86c9b8"
      },
      "outputs": [
        {
          "output_type": "stream",
          "name": "stdout",
          "text": [
            "{'A': 65, 'G': 125, 'C': 92, 'N': 5}\n",
            "Number of Adenine: 65\n",
            "Number of Thymine: None\n",
            "Number of Unknowns: 5\n"
          ]
        }
      ],
      "source": [
        "# There is also the del statement\n",
        "del base_counts['T']\n",
        "print(base_counts)\n",
        "\n",
        "# Print corresponding value (two methods)\n",
        "print(\"Number of Adenine:\", base_counts.get('A'))\n",
        "print(\"Number of Thymine:\", base_counts.get('T'))\n",
        "print(\"Number of Unknowns:\", base_counts.get('N'))"
      ]
    },
    {
      "cell_type": "markdown",
      "metadata": {
        "id": "p0_vyZlB97rX"
      },
      "source": [
        "A useful set of methods are ```.keys()``` and ```.values()``` which return dict objects (just like when we made a range). They can be turned into a list using the ```list()``` function in the same way."
      ]
    },
    {
      "cell_type": "code",
      "execution_count": 12,
      "metadata": {
        "colab": {
          "base_uri": "https://localhost:8080/"
        },
        "id": "Hph9MKHz97rX",
        "outputId": "0c079165-77fd-4112-fbbd-24509d8d060a"
      },
      "outputs": [
        {
          "output_type": "stream",
          "name": "stdout",
          "text": [
            "dict_values([65, 125, 92, 5])\n",
            "dict_keys(['A', 'G', 'C', 'N'])\n"
          ]
        }
      ],
      "source": [
        "# Print just the values\n",
        "print(base_counts.values())\n",
        "\n",
        "# Print just the keys\n",
        "print(base_counts.keys())"
      ]
    },
    {
      "cell_type": "markdown",
      "metadata": {
        "id": "8Pr1zwSu97rX"
      },
      "source": [
        "We can also use the ```.items()``` method to return key:value pairs as a list of tuples. We'll return to this when we know how to run through loops of data"
      ]
    },
    {
      "cell_type": "code",
      "execution_count": 13,
      "metadata": {
        "colab": {
          "base_uri": "https://localhost:8080/"
        },
        "id": "WwEBru6G97rX",
        "outputId": "a816ab0f-faca-419f-9365-7f6f8ee5546f"
      },
      "outputs": [
        {
          "output_type": "stream",
          "name": "stdout",
          "text": [
            "{'A': 65, 'G': 125, 'C': 92, 'N': 5}\n",
            "dict_items([('A', 65), ('G', 125), ('C', 92), ('N', 5)])\n"
          ]
        }
      ],
      "source": [
        "# Print just the values\n",
        "print(base_counts)\n",
        "print(base_counts.items())"
      ]
    },
    {
      "cell_type": "markdown",
      "metadata": {
        "id": "pRGRZRFA97rX"
      },
      "source": [
        "### Dictionary exercise\n",
        "\n",
        "1. Create a dictionary named insects where keys are the common short names of insects and values are their Latin names using this data.\n",
        "- honeybee  - Apis mellifera\n",
        "- fruitfly  - Drosophila melanogaster\n",
        "- butterfly - Papilio machaon\n",
        "- ladybird  - Coccinella septempunctata\n",
        "- fireant   - Solenopsis invicta\n",
        "\n",
        "2. Add a new insect to the insects dictionary with Mosquito & Culex pipiens\n",
        "3. Actually we have incorrectly identified the bee! Modify the honeybee to Apis cerana\n",
        "4. Print the list of latin names as a dict_list, and how many sepecies are in the dictionary"
      ]
    },
    {
      "cell_type": "code",
      "execution_count": 42,
      "metadata": {
        "colab": {
          "base_uri": "https://localhost:8080/"
        },
        "id": "gtwywAZx97rX",
        "outputId": "2f4cc13f-71e6-4e51-8bbe-b93bbe15cadf"
      },
      "outputs": [
        {
          "output_type": "stream",
          "name": "stdout",
          "text": [
            "{'honeybee': 'Apis mellifera', 'fruitfly': 'Drosophila melanogaster', 'butterfly': 'Papilio machaon', 'ladybird': 'Coccinella septempunctata', 'fireant': 'Solenopsis invicta'}\n",
            "{'honeybee': 'Apis mellifera', 'fruitfly': 'Drosophila melanogaster', 'butterfly': 'Papilio machaon', 'ladybird': 'Coccinella septempunctata', 'fireant': 'Solenopsis invicta', 'Mosquito': 'Culex pipiens'}\n",
            "{'honeybee': 'Apis cerana', 'fruitfly': 'Drosophila melanogaster', 'butterfly': 'Papilio machaon', 'ladybird': 'Coccinella septempunctata', 'fireant': 'Solenopsis invicta', 'Mosquito': 'Culex pipiens'}\n",
            "All latin names are:\n",
            " Apis cerana\n",
            "Drosophila melanogaster\n",
            "Papilio machaon\n",
            "Coccinella septempunctata\n",
            "Solenopsis invicta\n",
            "Culex pipiens \n",
            "and there are 6 species.\n"
          ]
        }
      ],
      "source": [
        "# Code goes here\n",
        "insects = {'honeybee': 'Apis mellifera', 'fruitfly': 'Drosophila melanogaster', 'butterfly': 'Papilio machaon', 'ladybird': 'Coccinella septempunctata', 'fireant': 'Solenopsis invicta'}\n",
        "print(insects)\n",
        "\n",
        "insects.update({'Mosquito': 'Culex pipiens'})\n",
        "print(insects)\n",
        "\n",
        "insects['honeybee'] = 'Apis cerana'\n",
        "print(insects)\n",
        "\n",
        "print(\"All latin names are:\\n\", '\\n' .join(list(insects.values())), \"\\nand there are\", len(insects.values()), \"species.\")\n"
      ]
    },
    {
      "cell_type": "markdown",
      "metadata": {
        "id": "KsVBxlMZXqI7"
      },
      "source": [
        "---\n",
        "#### Dictionary Example\n",
        "Dictionaries are really important and powerful. Lets look at another example where we can attach specific information to geneIDs, and use the ```.get``` method to search the dictionary.\n",
        "\n",
        "Here we can combine a gene sequence dictionary with our 2D list exercise from earlier"
      ]
    },
    {
      "cell_type": "code",
      "execution_count": 37,
      "metadata": {
        "colab": {
          "base_uri": "https://localhost:8080/"
        },
        "id": "O8UFUTAvXucr",
        "outputId": "8d3c9572-75e6-4089-c8b9-2bf14e7a3f24"
      },
      "outputs": [
        {
          "output_type": "stream",
          "name": "stdout",
          "text": [
            "TP53\n",
            "0.4\n"
          ]
        }
      ],
      "source": [
        "## The data\n",
        "\n",
        "# Dictionary of gene names and sequences\n",
        "gene_dict = {'BRCA1': 'ATGTTGTCATCGTTGAGCTTTGCTTCCT',\n",
        "             'TP53': 'ATGGAGGAGCCGCAGTCAGATC',\n",
        "             'EGFR': 'ATGACCATCCAAGATGATGGTGTC',\n",
        "             'KRAS': 'ATGACTGAATATAAACTTGTGGTAG',\n",
        "             'BRAF': 'ATGGTCCAGCTTGGACCCACTCC',\n",
        "             'ALK': 'ATGAAGGAGCCCTCAGATTTCTTG',\n",
        "             'RET': 'ATGGGTGGGTTGTCGGAAGATCTT',\n",
        "             'ROS1': 'ATGAGCCACCCAGGTCCCTGTAGT',\n",
        "             'MET': 'ATGGCTTCAAGCTGTTGTCGTGAAGA'}\n",
        "\n",
        "# gene confidence values\n",
        "gene_confs = [[0.92, 'MET1', 2205], [0.82, 'EGFR', 1567], [0.93, 'KRAS', 6523], [0.4, 'TP53', 5002], [0.94, 'ROS5', 1999], [0.87, 'BRCA1', 2323]]\n",
        "\n",
        "# sort and get lowest conf gene ID\n",
        "gene_confs.sort()\n",
        "lowest_gene_conf = gene_confs[0][0]\n",
        "lowest_gene_ID = gene_confs[0][1]\n",
        "\n",
        "print(lowest_gene_ID)\n",
        "print(lowest_gene_conf)"
      ]
    },
    {
      "cell_type": "markdown",
      "metadata": {
        "id": "T58-Y_2D97rX"
      },
      "source": [
        "We don't need to type the exact gene name. we can use the variable as the key:"
      ]
    },
    {
      "cell_type": "code",
      "execution_count": 34,
      "metadata": {
        "colab": {
          "base_uri": "https://localhost:8080/"
        },
        "id": "LQFi2-XI97rX",
        "outputId": "3c298dfd-e61e-4d6c-ac44-7afbd46c2f8e"
      },
      "outputs": [
        {
          "output_type": "stream",
          "name": "stdout",
          "text": [
            "ATGGAGGAGCCGCAGTCAGATC\n",
            "Gene sequence for TP53 (Confidence value: 0.4) is: ATGGAGGAGCCGCAGTCAGATC\n"
          ]
        }
      ],
      "source": [
        "# Search dictionary keys for that ID\n",
        "print(gene_dict.get(lowest_gene_ID))\n",
        "\n",
        "# easier to read!\n",
        "print(\"Gene sequence for\", lowest_gene_ID, \"(Confidence value:\", str(lowest_gene_conf) + \") is:\",  gene_dict.get(lowest_gene_ID))"
      ]
    },
    {
      "cell_type": "markdown",
      "metadata": {
        "id": "3mOA32Cf97rX"
      },
      "source": [
        "Lets continue our example from 2D lists and remove the three lowest genes from our dictionary:"
      ]
    },
    {
      "cell_type": "code",
      "execution_count": 35,
      "metadata": {
        "colab": {
          "base_uri": "https://localhost:8080/"
        },
        "id": "jA5MCmWZTGIp",
        "outputId": "4a66e663-a4ad-460d-c6f2-bee04013e14a"
      },
      "outputs": [
        {
          "output_type": "stream",
          "name": "stdout",
          "text": [
            "gene_dict contains 9 genes\n",
            "gene_dict contains 6 genes\n"
          ]
        }
      ],
      "source": [
        "print(\"gene_dict contains\", len(gene_dict), \"genes\")\n",
        "gene_dict.pop(\"EGFR\")\n",
        "gene_dict.pop(\"TP53\")\n",
        "gene_dict.pop(\"BRCA1\")\n",
        "print(\"gene_dict contains\", len(gene_dict), \"genes\")"
      ]
    },
    {
      "cell_type": "markdown",
      "metadata": {
        "id": "2-4AuHdaT1Xk"
      },
      "source": [
        "Actually, even better idea! Instead of just throwing the data out, lets put the DNA sequences of the lowest three genes from the dictionary into a new list called ```bad_genes``` before they get discarded.\n",
        "\n",
        "Note, what happens if you run this code immediately? Read the error and identify what is wrong."
      ]
    },
    {
      "cell_type": "code",
      "execution_count": 38,
      "metadata": {
        "colab": {
          "base_uri": "https://localhost:8080/"
        },
        "id": "2JQbjR594Ob2",
        "outputId": "15bf0359-0083-481a-cf4f-df663a252de0"
      },
      "outputs": [
        {
          "output_type": "stream",
          "name": "stdout",
          "text": [
            "gene_dict contains 9 genes\n",
            "gene_dict contains 6 genes\n"
          ]
        }
      ],
      "source": [
        "bad_genes = []\n",
        "\n",
        "print(\"gene_dict contains\", len(gene_dict), \"genes\")\n",
        "bad_genes.append(gene_dict.pop(\"EGFR\"))\n",
        "bad_genes.append(gene_dict.pop(\"TP53\"))\n",
        "bad_genes.append(gene_dict.pop(\"BRCA1\"))\n",
        "print(\"gene_dict contains\", len(gene_dict), \"genes\")"
      ]
    },
    {
      "cell_type": "code",
      "execution_count": 39,
      "metadata": {
        "id": "vfJfdHKn4SCZ",
        "colab": {
          "base_uri": "https://localhost:8080/"
        },
        "outputId": "dd6c285b-26db-4088-9f28-4cdfaa657381"
      },
      "outputs": [
        {
          "output_type": "stream",
          "name": "stdout",
          "text": [
            "['ATGACCATCCAAGATGATGGTGTC', 'ATGGAGGAGCCGCAGTCAGATC', 'ATGTTGTCATCGTTGAGCTTTGCTTCCT']\n",
            "{'KRAS': 'ATGACTGAATATAAACTTGTGGTAG', 'BRAF': 'ATGGTCCAGCTTGGACCCACTCC', 'ALK': 'ATGAAGGAGCCCTCAGATTTCTTG', 'RET': 'ATGGGTGGGTTGTCGGAAGATCTT', 'ROS1': 'ATGAGCCACCCAGGTCCCTGTAGT', 'MET': 'ATGGCTTCAAGCTGTTGTCGTGAAGA'}\n"
          ]
        }
      ],
      "source": [
        "print(bad_genes)\n",
        "print(gene_dict)"
      ]
    },
    {
      "cell_type": "markdown",
      "metadata": {
        "id": "QKAudoMCYk2t"
      },
      "source": [
        "Dictionaries and lists are powerful ways to handle data and often involve going between the two. There are also lots of powerful methods to search throughnot just the keys, but also the values to find relevant keys which can be very useful but first we need to learn a bit about loops and conditionals!"
      ]
    },
    {
      "cell_type": "markdown",
      "metadata": {
        "id": "xKbU1nRZkgP5"
      },
      "source": [
        "## Exercises\n",
        "\n",
        "1. Create a dictionary of bacteria and confluence values (growth) using the data:\n",
        "\n",
        "```\n",
        "[\"E. coli\", \"S. aureus\", \"P. aeruginosa\", \"K. pneumoniae\", \"A. baumannii\"]\n",
        "[60, 82, 75, 91, 70]\n",
        "```\n",
        "2. Print the confluence value of *K. pneumoniae* from the dictionary\n",
        "3. A function we haven't used yet is ```sum()```, but it works just like ```len()```. Use both of these to calculate the average confluence of all the samples in the dictionary (what's the easiest way to get all the values?)\n",
        "4. Oops! We just found another sample! Add ```{L. Beijerinick : 65}``` to the dictionary.\n",
        "5. Print the species name with the highest growth."
      ]
    },
    {
      "cell_type": "code",
      "execution_count": 48,
      "metadata": {
        "id": "8JOxai9ZlReC",
        "colab": {
          "base_uri": "https://localhost:8080/"
        },
        "outputId": "dc0375c9-0dfb-4a47-b7f9-59c86947cbcc"
      },
      "outputs": [
        {
          "output_type": "stream",
          "name": "stdout",
          "text": [
            "{'E. coli': 60, 'S. aureus': 82, 'P. aeruginosa': 75, 'K. pneumoniae': 91, 'A. baumannii': 70}\n",
            "91\n",
            "75.6\n",
            "{'E. coli': 60, 'S. aureus': 82, 'P. aeruginosa': 75, 'K. pneumoniae': 91, 'A. baumannii': 70, 'L. Beijerinick': 65}\n",
            "91 dict_keys(['E. coli', 'S. aureus', 'P. aeruginosa', 'K. pneumoniae', 'A. baumannii', 'L. Beijerinick'])\n"
          ]
        }
      ],
      "source": [
        "# Format reminder\n",
        "bacteria_dict = {\"E. coli\": 60,}\n",
        "\n",
        "bacteria = [\"E. coli\", \"S. aureus\", \"P. aeruginosa\", \"K. pneumoniae\", \"A. baumannii\"]\n",
        "growth = [60, 82, 75, 91, 70]\n",
        "\n",
        "# Code goes here\n",
        "\n",
        "bacteria_dict = zip(bacteria, growth)\n",
        "bacteria_dict = dict(bacteria_dict)\n",
        "print(bacteria_dict)\n",
        "\n",
        "print(bacteria_dict.get(\"K. pneumoniae\"))\n",
        "\n",
        "print(sum(bacteria_dict.values())/len(bacteria_dict))\n",
        "\n",
        "bacteria_dict.update({\"L. Beijerinick\": 65})\n",
        "print(bacteria_dict)\n",
        "\n",
        "print(max(bacteria_dict.values()),bacteria_dict.keys())"
      ]
    }
  ],
  "metadata": {
    "colab": {
      "provenance": [],
      "toc_visible": true
    },
    "kernelspec": {
      "display_name": "Python 3",
      "name": "python3"
    },
    "language_info": {
      "codemirror_mode": {
        "name": "ipython",
        "version": 3
      },
      "file_extension": ".py",
      "mimetype": "text/x-python",
      "name": "python",
      "nbconvert_exporter": "python",
      "pygments_lexer": "ipython3",
      "version": "3.11.5"
    }
  },
  "nbformat": 4,
  "nbformat_minor": 0
}